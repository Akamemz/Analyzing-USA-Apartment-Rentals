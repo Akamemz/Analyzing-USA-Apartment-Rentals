{
 "cells": [
  {
   "cell_type": "code",
   "execution_count": 649,
   "id": "initial_id",
   "metadata": {
    "collapsed": true,
    "ExecuteTime": {
     "end_time": "2024-05-13T20:18:15.066523Z",
     "start_time": "2024-05-13T20:18:15.050184Z"
    }
   },
   "outputs": [
    {
     "ename": "ModuleNotFoundError",
     "evalue": "No module named 'geopandas'",
     "output_type": "error",
     "traceback": [
      "\u001B[0;31m---------------------------------------------------------------------------\u001B[0m",
      "\u001B[0;31mModuleNotFoundError\u001B[0m                       Traceback (most recent call last)",
      "Cell \u001B[0;32mIn[649], line 5\u001B[0m\n\u001B[1;32m      3\u001B[0m \u001B[38;5;28;01mimport\u001B[39;00m \u001B[38;5;21;01mcolorcet\u001B[39;00m \u001B[38;5;28;01mas\u001B[39;00m \u001B[38;5;21;01mcc\u001B[39;00m\n\u001B[1;32m      4\u001B[0m \u001B[38;5;28;01mimport\u001B[39;00m \u001B[38;5;21;01mseaborn\u001B[39;00m \u001B[38;5;28;01mas\u001B[39;00m \u001B[38;5;21;01msns\u001B[39;00m\n\u001B[0;32m----> 5\u001B[0m \u001B[38;5;28;01mimport\u001B[39;00m \u001B[38;5;21;01mgeopandas\u001B[39;00m \u001B[38;5;28;01mas\u001B[39;00m \u001B[38;5;21;01mgpd\u001B[39;00m\n\u001B[1;32m      6\u001B[0m \u001B[38;5;28;01mimport\u001B[39;00m \u001B[38;5;21;01mmatplotlib\u001B[39;00m\u001B[38;5;21;01m.\u001B[39;00m\u001B[38;5;21;01mpyplot\u001B[39;00m \u001B[38;5;28;01mas\u001B[39;00m \u001B[38;5;21;01mplt\u001B[39;00m\n\u001B[1;32m      7\u001B[0m \u001B[38;5;28;01mfrom\u001B[39;00m \u001B[38;5;21;01mdatetime\u001B[39;00m \u001B[38;5;28;01mimport\u001B[39;00m datetime\n",
      "\u001B[0;31mModuleNotFoundError\u001B[0m: No module named 'geopandas'"
     ]
    }
   ],
   "source": [
    "import pandas as pd\n",
    "import numpy as np\n",
    "import colorcet as cc\n",
    "import seaborn as sns\n",
    "import geopandas as gpd\n",
    "import matplotlib.pyplot as plt\n",
    "from datetime import datetime\n"
   ]
  },
  {
   "cell_type": "code",
   "outputs": [],
   "source": [
    "# Load data set --> source: https://archive.ics.uci.edu/dataset/555/apartment+for+rent+classified\n",
    "df = pd.read_csv('apartments_for_rent_classified_10K.csv', sep=\";\", encoding='cp1252')\n"
   ],
   "metadata": {
    "collapsed": false,
    "ExecuteTime": {
     "end_time": "2024-05-13T18:56:48.541467Z",
     "start_time": "2024-05-13T18:56:48.483164Z"
    }
   },
   "id": "c0ca916604555a6d",
   "execution_count": 607
  },
  {
   "cell_type": "code",
   "outputs": [
    {
     "name": "stdout",
     "output_type": "stream",
     "text": [
      "<class 'pandas.core.frame.DataFrame'>\n",
      "RangeIndex: 10000 entries, 0 to 9999\n",
      "Data columns (total 22 columns):\n",
      " #   Column         Non-Null Count  Dtype  \n",
      "---  ------         --------------  -----  \n",
      " 0   id             10000 non-null  int64  \n",
      " 1   category       10000 non-null  object \n",
      " 2   title          10000 non-null  object \n",
      " 3   body           10000 non-null  object \n",
      " 4   amenities      6451 non-null   object \n",
      " 5   bathrooms      9966 non-null   float64\n",
      " 6   bedrooms       9993 non-null   float64\n",
      " 7   currency       10000 non-null  object \n",
      " 8   fee            10000 non-null  object \n",
      " 9   has_photo      10000 non-null  object \n",
      " 10  pets_allowed   5837 non-null   object \n",
      " 11  price          10000 non-null  int64  \n",
      " 12  price_display  10000 non-null  object \n",
      " 13  price_type     10000 non-null  object \n",
      " 14  square_feet    10000 non-null  int64  \n",
      " 15  address        6673 non-null   object \n",
      " 16  cityname       9923 non-null   object \n",
      " 17  state          9923 non-null   object \n",
      " 18  latitude       9990 non-null   float64\n",
      " 19  longitude      9990 non-null   float64\n",
      " 20  source         10000 non-null  object \n",
      " 21  time           10000 non-null  int64  \n",
      "dtypes: float64(4), int64(4), object(14)\n",
      "memory usage: 1.7+ MB\n"
     ]
    },
    {
     "data": {
      "text/plain": "           id                category  \\\n0  5668626895  housing/rent/apartment   \n1  5664597177  housing/rent/apartment   \n2  5668626833  housing/rent/apartment   \n3  5659918074  housing/rent/apartment   \n4  5668626759  housing/rent/apartment   \n\n                                               title  \\\n0  Studio apartment 2nd St NE, Uhland Terrace NE,...   \n1                  Studio apartment 814 Schutte Road   \n2  Studio apartment N Scott St, 14th St N, Arling...   \n3                     Studio apartment 1717 12th Ave   \n4  Studio apartment Washington Blvd, N Cleveland ...   \n\n                                                body amenities  bathrooms  \\\n0  This unit is located at second St NE, Uhland T...       NaN        NaN   \n1  This unit is located at 814 Schutte Road, Evan...       NaN        NaN   \n2  This unit is located at N Scott St, 14th St N,...       NaN        1.0   \n3  This unit is located at 1717 12th Ave, Seattle...       NaN        1.0   \n4  This unit is located at Washington Blvd, N Cle...       NaN        NaN   \n\n   bedrooms currency fee  has_photo  ... price_display  price_type  \\\n0       0.0      USD  No  Thumbnail  ...          $790     Monthly   \n1       1.0      USD  No  Thumbnail  ...          $425     Monthly   \n2       0.0      USD  No  Thumbnail  ...        $1,390     Monthly   \n3       0.0      USD  No  Thumbnail  ...          $925     Monthly   \n4       0.0      USD  No  Thumbnail  ...          $880     Monthly   \n\n  square_feet           address    cityname state latitude longitude  \\\n0         101               NaN  Washington    DC  38.9057  -76.9861   \n1         106    814 Schutte Rd  Evansville    IN  37.9680  -87.6621   \n2         107               NaN   Arlington    VA  38.8910  -77.0816   \n3         116  1717 12th Avenue     Seattle    WA  47.6160 -122.3275   \n4         125               NaN   Arlington    VA  38.8738  -77.1055   \n\n      source        time  \n0  RentLingo  1577359415  \n1  RentLingo  1577017063  \n2  RentLingo  1577359410  \n3  RentLingo  1576667743  \n4  RentLingo  1577359401  \n\n[5 rows x 22 columns]",
      "text/html": "<div>\n<style scoped>\n    .dataframe tbody tr th:only-of-type {\n        vertical-align: middle;\n    }\n\n    .dataframe tbody tr th {\n        vertical-align: top;\n    }\n\n    .dataframe thead th {\n        text-align: right;\n    }\n</style>\n<table border=\"1\" class=\"dataframe\">\n  <thead>\n    <tr style=\"text-align: right;\">\n      <th></th>\n      <th>id</th>\n      <th>category</th>\n      <th>title</th>\n      <th>body</th>\n      <th>amenities</th>\n      <th>bathrooms</th>\n      <th>bedrooms</th>\n      <th>currency</th>\n      <th>fee</th>\n      <th>has_photo</th>\n      <th>...</th>\n      <th>price_display</th>\n      <th>price_type</th>\n      <th>square_feet</th>\n      <th>address</th>\n      <th>cityname</th>\n      <th>state</th>\n      <th>latitude</th>\n      <th>longitude</th>\n      <th>source</th>\n      <th>time</th>\n    </tr>\n  </thead>\n  <tbody>\n    <tr>\n      <th>0</th>\n      <td>5668626895</td>\n      <td>housing/rent/apartment</td>\n      <td>Studio apartment 2nd St NE, Uhland Terrace NE,...</td>\n      <td>This unit is located at second St NE, Uhland T...</td>\n      <td>NaN</td>\n      <td>NaN</td>\n      <td>0.0</td>\n      <td>USD</td>\n      <td>No</td>\n      <td>Thumbnail</td>\n      <td>...</td>\n      <td>$790</td>\n      <td>Monthly</td>\n      <td>101</td>\n      <td>NaN</td>\n      <td>Washington</td>\n      <td>DC</td>\n      <td>38.9057</td>\n      <td>-76.9861</td>\n      <td>RentLingo</td>\n      <td>1577359415</td>\n    </tr>\n    <tr>\n      <th>1</th>\n      <td>5664597177</td>\n      <td>housing/rent/apartment</td>\n      <td>Studio apartment 814 Schutte Road</td>\n      <td>This unit is located at 814 Schutte Road, Evan...</td>\n      <td>NaN</td>\n      <td>NaN</td>\n      <td>1.0</td>\n      <td>USD</td>\n      <td>No</td>\n      <td>Thumbnail</td>\n      <td>...</td>\n      <td>$425</td>\n      <td>Monthly</td>\n      <td>106</td>\n      <td>814 Schutte Rd</td>\n      <td>Evansville</td>\n      <td>IN</td>\n      <td>37.9680</td>\n      <td>-87.6621</td>\n      <td>RentLingo</td>\n      <td>1577017063</td>\n    </tr>\n    <tr>\n      <th>2</th>\n      <td>5668626833</td>\n      <td>housing/rent/apartment</td>\n      <td>Studio apartment N Scott St, 14th St N, Arling...</td>\n      <td>This unit is located at N Scott St, 14th St N,...</td>\n      <td>NaN</td>\n      <td>1.0</td>\n      <td>0.0</td>\n      <td>USD</td>\n      <td>No</td>\n      <td>Thumbnail</td>\n      <td>...</td>\n      <td>$1,390</td>\n      <td>Monthly</td>\n      <td>107</td>\n      <td>NaN</td>\n      <td>Arlington</td>\n      <td>VA</td>\n      <td>38.8910</td>\n      <td>-77.0816</td>\n      <td>RentLingo</td>\n      <td>1577359410</td>\n    </tr>\n    <tr>\n      <th>3</th>\n      <td>5659918074</td>\n      <td>housing/rent/apartment</td>\n      <td>Studio apartment 1717 12th Ave</td>\n      <td>This unit is located at 1717 12th Ave, Seattle...</td>\n      <td>NaN</td>\n      <td>1.0</td>\n      <td>0.0</td>\n      <td>USD</td>\n      <td>No</td>\n      <td>Thumbnail</td>\n      <td>...</td>\n      <td>$925</td>\n      <td>Monthly</td>\n      <td>116</td>\n      <td>1717 12th Avenue</td>\n      <td>Seattle</td>\n      <td>WA</td>\n      <td>47.6160</td>\n      <td>-122.3275</td>\n      <td>RentLingo</td>\n      <td>1576667743</td>\n    </tr>\n    <tr>\n      <th>4</th>\n      <td>5668626759</td>\n      <td>housing/rent/apartment</td>\n      <td>Studio apartment Washington Blvd, N Cleveland ...</td>\n      <td>This unit is located at Washington Blvd, N Cle...</td>\n      <td>NaN</td>\n      <td>NaN</td>\n      <td>0.0</td>\n      <td>USD</td>\n      <td>No</td>\n      <td>Thumbnail</td>\n      <td>...</td>\n      <td>$880</td>\n      <td>Monthly</td>\n      <td>125</td>\n      <td>NaN</td>\n      <td>Arlington</td>\n      <td>VA</td>\n      <td>38.8738</td>\n      <td>-77.1055</td>\n      <td>RentLingo</td>\n      <td>1577359401</td>\n    </tr>\n  </tbody>\n</table>\n<p>5 rows × 22 columns</p>\n</div>"
     },
     "execution_count": 608,
     "metadata": {},
     "output_type": "execute_result"
    }
   ],
   "source": [
    "\"\"\"\n",
    "** Additional Variable Information\n",
    "id = unique identifier of apartment\n",
    "category = category of classified\n",
    "title = title text of apartment\n",
    "body = body text of apartment\n",
    "amenities = like AC, basketball,cable, gym, internet access, pool, refrigerator etc.\n",
    "bathrooms = number of bathrooms\n",
    "bedrooms = number of bedrooms\n",
    "currency = price in current\n",
    "fee = fee\n",
    "has_photo = photo of apartment\n",
    "pets_allowed = what pets are allowed dogs/cats etc.\n",
    "price = rental price of apartment\n",
    "price_display = price converted into display for reader\n",
    "price_type = price in USD\n",
    "square_feet = size of the apartment\n",
    "address = where the apartment is located\n",
    "cityname = where the apartment is located\n",
    "state = where the apartment is located\n",
    "latitude = where the apartment is located\n",
    "longitude = where the apartment is located\n",
    "source = origin of classified\n",
    "time = when classified was created\n",
    "\"\"\"\n",
    "df.info()\n",
    "df.head()"
   ],
   "metadata": {
    "collapsed": false,
    "ExecuteTime": {
     "end_time": "2024-05-13T18:56:48.553747Z",
     "start_time": "2024-05-13T18:56:48.542375Z"
    }
   },
   "id": "335df71e8691a50a",
   "execution_count": 608
  },
  {
   "cell_type": "markdown",
   "source": [
    "### Simple EDA of a given data"
   ],
   "metadata": {
    "collapsed": false
   },
   "id": "fa37802c8b52947b"
  },
  {
   "cell_type": "code",
   "outputs": [
    {
     "name": "stdout",
     "output_type": "stream",
     "text": [
      "id                  0\n",
      "category            0\n",
      "title               0\n",
      "body                0\n",
      "amenities        3549\n",
      "bathrooms          34\n",
      "bedrooms            7\n",
      "currency            0\n",
      "fee                 0\n",
      "has_photo           0\n",
      "pets_allowed     4163\n",
      "price               0\n",
      "price_display       0\n",
      "price_type          0\n",
      "square_feet         0\n",
      "address          3327\n",
      "cityname           77\n",
      "state              77\n",
      "latitude           10\n",
      "longitude          10\n",
      "source              0\n",
      "time                0\n",
      "dtype: int64\n",
      "\n",
      "==================================================\n",
      "\n",
      "Percentage of missing values in 'amenities': 35.49%\n",
      "Percentage of missing values in 'bathrooms': 0.34%\n",
      "Percentage of missing values in 'bedrooms': 0.07%\n",
      "Percentage of missing values in 'pets_allowed': 41.63%\n",
      "Percentage of missing values in 'address': 33.27%\n",
      "Percentage of missing values in 'cityname': 0.77%\n",
      "Percentage of missing values in 'state': 0.77%\n",
      "Percentage of missing values in 'latitude': 0.10%\n",
      "Percentage of missing values in 'longitude': 0.10%\n"
     ]
    }
   ],
   "source": [
    "# Exploring missing values in features\n",
    "print(df.isnull().sum())\n",
    "print(f\"\\n{('=')*50}\\n\")\n",
    "\n",
    "for column_name in df.columns:\n",
    "    missing_values_mask = df[column_name].isnull()\n",
    "    missing_values_count = missing_values_mask.sum()\n",
    "    total_rows = df.shape[0]\n",
    "    percentage_missing = (missing_values_count / total_rows) * 100\n",
    "    \n",
    "    if percentage_missing > 0.05:\n",
    "        print(f\"Percentage of missing values in '{column_name}': {percentage_missing:.2f}%\")\n",
    "\n",
    "# Below we can see that 'amenities', 'pets_allowed' and 'address' has a relatively big percentage of missing data \n",
    "# For the other features we can consider either populating or dropping them as its should not impact analysis "
   ],
   "metadata": {
    "collapsed": false,
    "ExecuteTime": {
     "end_time": "2024-05-13T18:56:48.562478Z",
     "start_time": "2024-05-13T18:56:48.554393Z"
    }
   },
   "id": "67f8968a48b8117d",
   "execution_count": 609
  },
  {
   "cell_type": "code",
   "outputs": [
    {
     "name": "stdout",
     "output_type": "stream",
     "text": [
      "<class 'pandas.core.frame.DataFrame'>\n",
      "Index: 9950 entries, 2 to 9999\n",
      "Data columns (total 15 columns):\n",
      " #   Column        Non-Null Count  Dtype  \n",
      "---  ------        --------------  -----  \n",
      " 0   category      9950 non-null   object \n",
      " 1   amenities     6442 non-null   object \n",
      " 2   bathrooms     9950 non-null   float64\n",
      " 3   bedrooms      9950 non-null   float64\n",
      " 4   has_photo     9950 non-null   object \n",
      " 5   pets_allowed  5820 non-null   object \n",
      " 6   price         9950 non-null   int64  \n",
      " 7   price_type    9950 non-null   object \n",
      " 8   square_feet   9950 non-null   int64  \n",
      " 9   cityname      9883 non-null   object \n",
      " 10  state         9883 non-null   object \n",
      " 11  latitude      9950 non-null   float64\n",
      " 12  longitude     9950 non-null   float64\n",
      " 13  source        9950 non-null   object \n",
      " 14  time          9950 non-null   int64  \n",
      "dtypes: float64(4), int64(3), object(8)\n",
      "memory usage: 1.2+ MB\n"
     ]
    }
   ],
   "source": [
    "# Getting rid of unnecessary information\n",
    "df_1 = df.copy()\n",
    "\n",
    "# Drop unnecessary columns\n",
    "columns_to_drop = ['title', 'body', 'currency', 'fee', 'price_display', 'address', 'id']\n",
    "df_1 = df.drop(columns=columns_to_drop, inplace=False)\n",
    "\n",
    "# Drop unnecessary rows\n",
    "df_1 = df_1.dropna(subset=['bathrooms', 'bedrooms', 'price', 'latitude', 'longitude'])\n",
    "df_1.info()\n"
   ],
   "metadata": {
    "collapsed": false,
    "ExecuteTime": {
     "end_time": "2024-05-13T18:56:48.570383Z",
     "start_time": "2024-05-13T18:56:48.563532Z"
    }
   },
   "id": "b4e727ed6c3a20fa",
   "execution_count": 610
  },
  {
   "cell_type": "code",
   "outputs": [],
   "source": [
    "# Exploring feature 'pets_allowed'\n",
    "# Fill in missing values in 'pets_allowed' to '0' assuming that all empty values indicate to no pet zone\n",
    "df_1['pets_allowed'].fillna(0, inplace=True) \n",
    "\n",
    "# Here on the other hand we haved assumed that missing data is no pet zone than all \n",
    "# the other data does allow pets, so we can indicate it as 1\n",
    "df_1['pets_allowed'].replace(['Dogs', 'Cats', 'Cats,Dogs'], 1, inplace=True)\n",
    "\n",
    "# Convert 'pets_allowed' column to categorical\n",
    "df_1['pets_allowed'] = pd.Categorical(df_1['pets_allowed'], categories=[0, 1], ordered=False)\n"
   ],
   "metadata": {
    "collapsed": false,
    "ExecuteTime": {
     "end_time": "2024-05-13T18:56:48.575201Z",
     "start_time": "2024-05-13T18:56:48.570917Z"
    }
   },
   "id": "62b8b8af89ae51e0",
   "execution_count": 611
  },
  {
   "cell_type": "code",
   "outputs": [
    {
     "data": {
      "text/plain": "longitude  latitude\n-98.5576   39.8163     66\n-82.1971   28.4590      1\nName: count, dtype: int64"
     },
     "execution_count": 612,
     "metadata": {},
     "output_type": "execute_result"
    }
   ],
   "source": [
    "# Exploring features 'cityname' and 'state'\n",
    "# Find out the either one missing value weather be it City or State that could be mapped using long and lat\n",
    "df_1.loc[df_1['cityname'].isna() | df_1['state'].isna(), ['longitude', 'latitude']].value_counts()\n"
   ],
   "metadata": {
    "collapsed": false,
    "ExecuteTime": {
     "end_time": "2024-05-13T18:56:48.579887Z",
     "start_time": "2024-05-13T18:56:48.575721Z"
    }
   },
   "id": "b01a62d09166989b",
   "execution_count": 612
  },
  {
   "cell_type": "markdown",
   "source": [
    "#### As we can see we have to coordinates, using google search we can find the exact address based on that information \n",
    "#### So first row indicates that its address is --> 28032 Main Street, Lebanon, KS 66952 Lebanon Kansas United States \n",
    "#### The second row indicates that its address is --> 37403 Polite Avenue, Dade City, FL 33523 Dade City Florida United States \n",
    "#### Using that information we can fill in those missing values"
   ],
   "metadata": {
    "collapsed": false
   },
   "id": "9c703e0200050868"
  },
  {
   "cell_type": "code",
   "outputs": [
    {
     "data": {
      "text/plain": "cityname    0\nstate       0\ndtype: int64"
     },
     "execution_count": 613,
     "metadata": {},
     "output_type": "execute_result"
    }
   ],
   "source": [
    "df_1.loc[((df_1['cityname'].isna()) | (df_1['state'].isna())) & (df_1['longitude']==-98.5576), 'cityname'] = 'Lebanon'\n",
    "df_1.loc[((df_1['cityname'].isna()) | (df_1['state'].isna())) & (df_1['longitude']==-98.5576), 'state'] = 'KS'\n",
    "df_1.loc[((df_1['cityname'].isna()) | (df_1['state'].isna())) & (df_1['longitude']==-82.1971), 'cityname'] = 'Dade'\n",
    "df_1.loc[((df_1['cityname'].isna()) | (df_1['state'].isna())) & (df_1['longitude']==-82.1971), 'state'] = 'FL'\n",
    "\n",
    "# Afte mapping we can drop th rest of the missing values \n",
    "df_1 = df_1.dropna(subset=['cityname', 'state'])\n",
    "df_1.loc[:, ['cityname', 'state']].isna().sum()"
   ],
   "metadata": {
    "collapsed": false,
    "ExecuteTime": {
     "end_time": "2024-05-13T18:56:48.587511Z",
     "start_time": "2024-05-13T18:56:48.580365Z"
    }
   },
   "id": "b2c9cf0bdcba03d2",
   "execution_count": 613
  },
  {
   "cell_type": "code",
   "outputs": [
    {
     "name": "stdout",
     "output_type": "stream",
     "text": [
      "There are a total of (3508) missing 'amenities'.\n"
     ]
    },
    {
     "data": {
      "text/plain": "amenities\nParking                                                                                                                                 229\nDishwasher,Refrigerator                                                                                                                 225\nPool                                                                                                                                    168\nDishwasher,Parking,Pool                                                                                                                 149\nDishwasher                                                                                                                              147\n                                                                                                                                       ... \nCable or Satellite,Dishwasher,Internet Access,Parking                                                                                     1\nCable or Satellite,Clubhouse,Dishwasher,Hot Tub,Internet Access,Parking,Patio/Deck,Pool,Refrigerator                                      1\nCable or Satellite,Internet Access,Parking,Wood Floors                                                                                    1\nCable or Satellite,Clubhouse,Dishwasher,Fireplace,Garbage Disposal,Hot Tub,Internet Access,Parking,Playground,Pool,Refrigerator,View      1\nElevator,Gym,Parking,Patio/Deck,Pool,Storage,Tennis,View                                                                                  1\nName: count, Length: 2249, dtype: int64"
     },
     "execution_count": 614,
     "metadata": {},
     "output_type": "execute_result"
    }
   ],
   "source": [
    "# Exploring feature 'amenities'\n",
    "print(f\"There are a total of ({df_1.amenities.isnull().sum()}) missing 'amenities'.\")\n",
    "df_1.amenities.value_counts()\n"
   ],
   "metadata": {
    "collapsed": false,
    "ExecuteTime": {
     "end_time": "2024-05-13T18:56:48.591279Z",
     "start_time": "2024-05-13T18:56:48.588080Z"
    }
   },
   "id": "1013aaf2bc71c699",
   "execution_count": 614
  },
  {
   "cell_type": "markdown",
   "source": [
    "#### After carefully exploring table above we can assume that all the missing values in 'amenities' refers to basic things. So we can divide 'amenities' into 2 categories to basic and advanced. "
   ],
   "metadata": {
    "collapsed": false
   },
   "id": "5ce010fdc0f0a1"
  },
  {
   "cell_type": "code",
   "outputs": [
    {
     "data": {
      "text/plain": "amenity_class\n1    5681\n0    4269\nName: count, dtype: int64"
     },
     "execution_count": 615,
     "metadata": {},
     "output_type": "execute_result"
    }
   ],
   "source": [
    "# List of amenities considered advanced class\n",
    "advanced_amenities = ['Clubhouse', 'Fireplace', 'Hot Tub', 'Parking', 'Pool',\n",
    "                      'View', 'Basketball', 'Doorman', 'Storage', 'Patio/Deck']\n",
    "\n",
    "# Define a function to classify amenities\n",
    "def classify_amenities(amenities):\n",
    "    if pd.isna(amenities):\n",
    "        return 0  # If amenities are missing, classify as 0 meaning its 'basic' \n",
    "    else:\n",
    "        amenity_list = amenities.split(',')\n",
    "        for amenity in amenity_list:\n",
    "            if amenity.strip() in advanced_amenities:\n",
    "                return 1 # If amenities contain one of the items from the advanced_amenities, classify as 1, meaning its advanced\n",
    "        return 0\n",
    "\n",
    "# Apply the function to create a new column 'amenity_class'\n",
    "df_1['amenity_class'] = df_1['amenities'].apply(classify_amenities)\n",
    "\n",
    "# We drop 'amenities' column because as of now it hold no value for analysis\n",
    "df_1 = df_1.drop(columns=['amenities'])\n",
    "df_1['amenity_class'].value_counts()"
   ],
   "metadata": {
    "collapsed": false,
    "ExecuteTime": {
     "end_time": "2024-05-13T18:56:48.599049Z",
     "start_time": "2024-05-13T18:56:48.591769Z"
    }
   },
   "id": "e09ef713f7e34847",
   "execution_count": 615
  },
  {
   "cell_type": "code",
   "outputs": [
    {
     "data": {
      "text/plain": "category         0\nbathrooms        0\nbedrooms         0\nhas_photo        0\npets_allowed     0\nprice            0\nprice_type       0\nsquare_feet      0\ncityname         0\nstate            0\nlatitude         0\nlongitude        0\nsource           0\ntime             0\namenity_class    0\ndtype: int64"
     },
     "execution_count": 616,
     "metadata": {},
     "output_type": "execute_result"
    }
   ],
   "source": [
    "# Double-checking missing values in the data set\n",
    "df_1.isna().sum()"
   ],
   "metadata": {
    "collapsed": false,
    "ExecuteTime": {
     "end_time": "2024-05-13T18:56:48.603390Z",
     "start_time": "2024-05-13T18:56:48.600513Z"
    }
   },
   "id": "acc28f9947d26149",
   "execution_count": 616
  },
  {
   "cell_type": "code",
   "outputs": [
    {
     "name": "stdout",
     "output_type": "stream",
     "text": [
      "source\n",
      "RentLingo            6869\n",
      "RentDigs.com         2763\n",
      "ListedBuy             177\n",
      "RealRentals            69\n",
      "GoSection8             30\n",
      "Listanza               20\n",
      "RENTOCULAR             16\n",
      "rentbits                2\n",
      "Home Rentals            1\n",
      "Real Estate Agent       1\n",
      "RENTCafé                1\n",
      "tenantcloud             1\n",
      "Name: count, dtype: int64\n"
     ]
    }
   ],
   "source": [
    "# Exploring feature 'source'\n",
    "print((df_1.source.value_counts()))\n",
    "\n",
    "# Because the most popular websites with the majority of records are 'RentLingo' and 'RentDigs.com' we can just say in it's not any of there its calssified as 'other'\n",
    "df_1.loc[(df_1['source']!='RentDigs.com') & (df_1['source'] != 'RentLingo'), 'source'] = 'others'\n"
   ],
   "metadata": {
    "collapsed": false,
    "ExecuteTime": {
     "end_time": "2024-05-13T18:56:48.607946Z",
     "start_time": "2024-05-13T18:56:48.603914Z"
    }
   },
   "id": "35920781ce47afcb",
   "execution_count": 617
  },
  {
   "cell_type": "code",
   "outputs": [
    {
     "name": "stdout",
     "output_type": "stream",
     "text": [
      "has_photo\n",
      "Thumbnail    8858\n",
      "Yes           909\n",
      "No            183\n",
      "Name: count, dtype: int64\n",
      " \n",
      "<class 'pandas.core.series.Series'>\n",
      "Index: 9950 entries, 2 to 9999\n",
      "Series name: has_photo\n",
      "Non-Null Count  Dtype   \n",
      "--------------  -----   \n",
      "9950 non-null   category\n",
      "dtypes: category(1)\n",
      "memory usage: 87.6 KB\n"
     ]
    }
   ],
   "source": [
    "# Exploring feature 'has_photo'\n",
    "print(df_1.has_photo.value_counts())\n",
    "\n",
    "# 'Thumbnail' is a small version of an image or video that is used as a preview. Because of that fact we can assume that all values that are 'Thumbnail' imply 'Yes'.\n",
    "df_1['has_photo'].replace('Thumbnail', 'Yes', inplace=True)\n",
    "\n",
    "\n",
    "# Map 'No' to 0 and 'Yes' to 1 to make it as categorical feature\n",
    "df_1['has_photo'] = pd.Categorical.from_codes(df_1['has_photo'].map({'No': 0, 'Yes': 1}), categories=[0, 1], ordered=False)\n",
    "print(' ')\n",
    "df_1['has_photo'].info()\n",
    "\n"
   ],
   "metadata": {
    "collapsed": false,
    "ExecuteTime": {
     "end_time": "2024-05-13T18:56:48.613160Z",
     "start_time": "2024-05-13T18:56:48.608449Z"
    }
   },
   "id": "fcfbb5ae72a3e30a",
   "execution_count": 618
  },
  {
   "cell_type": "code",
   "outputs": [
    {
     "data": {
      "text/plain": "         bathrooms     bedrooms         price   square_feet\ncount  9950.000000  9950.000000   9950.000000   9950.000000\nmean      1.380553     1.747538   1487.585930    943.271055\nstd       0.615313     0.941543   1077.350394    526.416278\nmin       1.000000     0.000000    200.000000    107.000000\n25%       1.000000     1.000000    950.000000    650.000000\n50%       1.000000     2.000000   1275.000000    803.000000\n75%       2.000000     2.000000   1695.000000   1100.000000\nmax       8.500000     9.000000  52500.000000  11318.000000",
      "text/html": "<div>\n<style scoped>\n    .dataframe tbody tr th:only-of-type {\n        vertical-align: middle;\n    }\n\n    .dataframe tbody tr th {\n        vertical-align: top;\n    }\n\n    .dataframe thead th {\n        text-align: right;\n    }\n</style>\n<table border=\"1\" class=\"dataframe\">\n  <thead>\n    <tr style=\"text-align: right;\">\n      <th></th>\n      <th>bathrooms</th>\n      <th>bedrooms</th>\n      <th>price</th>\n      <th>square_feet</th>\n    </tr>\n  </thead>\n  <tbody>\n    <tr>\n      <th>count</th>\n      <td>9950.000000</td>\n      <td>9950.000000</td>\n      <td>9950.000000</td>\n      <td>9950.000000</td>\n    </tr>\n    <tr>\n      <th>mean</th>\n      <td>1.380553</td>\n      <td>1.747538</td>\n      <td>1487.585930</td>\n      <td>943.271055</td>\n    </tr>\n    <tr>\n      <th>std</th>\n      <td>0.615313</td>\n      <td>0.941543</td>\n      <td>1077.350394</td>\n      <td>526.416278</td>\n    </tr>\n    <tr>\n      <th>min</th>\n      <td>1.000000</td>\n      <td>0.000000</td>\n      <td>200.000000</td>\n      <td>107.000000</td>\n    </tr>\n    <tr>\n      <th>25%</th>\n      <td>1.000000</td>\n      <td>1.000000</td>\n      <td>950.000000</td>\n      <td>650.000000</td>\n    </tr>\n    <tr>\n      <th>50%</th>\n      <td>1.000000</td>\n      <td>2.000000</td>\n      <td>1275.000000</td>\n      <td>803.000000</td>\n    </tr>\n    <tr>\n      <th>75%</th>\n      <td>2.000000</td>\n      <td>2.000000</td>\n      <td>1695.000000</td>\n      <td>1100.000000</td>\n    </tr>\n    <tr>\n      <th>max</th>\n      <td>8.500000</td>\n      <td>9.000000</td>\n      <td>52500.000000</td>\n      <td>11318.000000</td>\n    </tr>\n  </tbody>\n</table>\n</div>"
     },
     "execution_count": 619,
     "metadata": {},
     "output_type": "execute_result"
    }
   ],
   "source": [
    "# Descriptive statistics of continues features. We do not consider time as it's not continues feature, \n",
    "# and it's not in the right format yet \n",
    "numer_col = ['bathrooms', 'bedrooms', 'price', 'square_feet']  \n",
    "df_1.loc[:, numer_col].describe()"
   ],
   "metadata": {
    "collapsed": false,
    "ExecuteTime": {
     "end_time": "2024-05-13T18:56:48.619367Z",
     "start_time": "2024-05-13T18:56:48.613614Z"
    }
   },
   "id": "afe01e3852e08e28",
   "execution_count": 619
  },
  {
   "cell_type": "code",
   "outputs": [
    {
     "data": {
      "text/plain": "<Figure size 1200x1000 with 4 Axes>",
      "image/png": "[encoded data removed]"
     },
     "metadata": {},
     "output_type": "display_data"
    }
   ],
   "source": [
    "# Create subplots\n",
    "fig, axs = plt.subplots(2, 2, figsize=(12, 10))\n",
    "\n",
    "# Flatten the axis array for easy iteration\n",
    "axs = axs.flatten()\n",
    "\n",
    "# Loop through numerical features and their corresponding axis\n",
    "for i, (feature, ax) in enumerate(zip(numer_col, axs)):\n",
    "    # Create box plot using Seaborn\n",
    "    sns.boxplot(x=df_1[feature], ax=ax)\n",
    "    ax.set_title(f'Distribution of {feature}')\n",
    "\n",
    "fig.suptitle('Box Plots of Numerical Features', fontsize=16)\n",
    "plt.tight_layout()\n",
    "\n",
    "# Show the plots\n",
    "plt.show()\n"
   ],
   "metadata": {
    "collapsed": false,
    "ExecuteTime": {
     "end_time": "2024-05-13T18:56:48.864431Z",
     "start_time": "2024-05-13T18:56:48.619915Z"
    }
   },
   "id": "5e9a58d75b105998",
   "execution_count": 620
  },
  {
   "cell_type": "markdown",
   "source": [
    "\n",
    "#### Description of Numerical Features for above box plots:\n",
    "\n",
    "- ##### **Bedrooms Distribution:** The distribution of bedrooms appears to be right skewed, with more houses having fewer bedrooms.\n",
    "\n",
    "- ##### **Price Distribution:** The distribution of price is also skewed, with more houses having a lower price.\n",
    "\n",
    "- ##### **Bathrooms and Square Footage Distributions:** The distributions of bathrooms and square footage appear more symmetrical.\n",
    "\n"
   ],
   "metadata": {
    "collapsed": false
   },
   "id": "3ed7ded412d4eae5"
  },
  {
   "cell_type": "code",
   "outputs": [
    {
     "name": "stdout",
     "output_type": "stream",
     "text": [
      "price_type\n",
      "Monthly    9949\n",
      "Weekly        1\n",
      "Name: count, dtype: int64\n"
     ]
    },
    {
     "data": {
      "text/plain": "price_type\nMonthly    9949\nName: count, dtype: int64"
     },
     "execution_count": 621,
     "metadata": {},
     "output_type": "execute_result"
    }
   ],
   "source": [
    "# Exploring feature 'price_type'\n",
    "\n",
    "print(df_1['price_type'].value_counts())\n",
    "\n",
    "\n",
    "# In here we can see that there is only one record showing weekly payment method\n",
    "# We can drop that record as it could potentially create a bias or the other method would be considering converting 'Monthly' payments into the 'Weekly' ones performing down sampling. But for now we would consider only Monthly\n",
    "\n",
    "# Drop rows where payment method is 'Weekly'\n",
    "df_1 = df_1[df_1['price_type'] != 'Weekly']\n",
    "df_1['price_type'].value_counts()\n"
   ],
   "metadata": {
    "collapsed": false,
    "ExecuteTime": {
     "end_time": "2024-05-13T18:56:48.869819Z",
     "start_time": "2024-05-13T18:56:48.865168Z"
    }
   },
   "id": "3ae5890f11e1a09b",
   "execution_count": 621
  },
  {
   "cell_type": "code",
   "outputs": [
    {
     "name": "stdout",
     "output_type": "stream",
     "text": [
      "<class 'pandas.core.frame.DataFrame'>\n",
      "Index: 9949 entries, 2 to 9999\n",
      "Data columns (total 15 columns):\n",
      " #   Column         Non-Null Count  Dtype   \n",
      "---  ------         --------------  -----   \n",
      " 0   category       9949 non-null   object  \n",
      " 1   bathrooms      9949 non-null   float64 \n",
      " 2   bedrooms       9949 non-null   float64 \n",
      " 3   has_photo      9949 non-null   category\n",
      " 4   pets_allowed   9949 non-null   category\n",
      " 5   price          9949 non-null   int64   \n",
      " 6   price_type     9949 non-null   object  \n",
      " 7   square_feet    9949 non-null   int64   \n",
      " 8   cityname       9949 non-null   object  \n",
      " 9   state          9949 non-null   object  \n",
      " 10  latitude       9949 non-null   float64 \n",
      " 11  longitude      9949 non-null   float64 \n",
      " 12  source         9949 non-null   object  \n",
      " 13  time           9949 non-null   int64   \n",
      " 14  amenity_class  9949 non-null   int64   \n",
      "dtypes: category(2), float64(4), int64(4), object(5)\n",
      "memory usage: 1.1+ MB\n"
     ]
    }
   ],
   "source": [
    "df_1.info()"
   ],
   "metadata": {
    "collapsed": false,
    "ExecuteTime": {
     "end_time": "2024-05-13T18:56:48.876205Z",
     "start_time": "2024-05-13T18:56:48.870574Z"
    }
   },
   "id": "c7edadee39ba5edc",
   "execution_count": 622
  },
  {
   "cell_type": "code",
   "outputs": [
    {
     "name": "stdout",
     "output_type": "stream",
     "text": [
      "category\n",
      "housing/rent/apartment     9946\n",
      "housing/rent/home             2\n",
      "housing/rent/short_term       1\n",
      "Name: count, dtype: int64 \n",
      "\n",
      "category\n",
      "housing/rent/apartment    9947\n",
      "Name: count, dtype: int64\n"
     ]
    }
   ],
   "source": [
    "# Exploring feature 'category'\n",
    "print(df_1['category'].value_counts(), '\\n')\n",
    "\n",
    "# There are only two instances of 'housing/rent/home' category and only one for 'housing/rent/short_term'.\n",
    "# So we can drop two records for 'housing/rent/home' as they could contribute to a bias in the analysis and assuming that 'short_term' mean 'apartment' as its a very likely outcome, we can convert 'housing/rent/short_term' to 'housing/rent/apartment' \n",
    "\n",
    "# Drop rows where category is 'housing/rent/home'\n",
    "df_1 = df_1[df_1['category'] != 'housing/rent/home']\n",
    "\n",
    "# Replace 'housing/rent/short_term' with 'housing/rent/apartment'\n",
    "df_1['category'].replace('housing/rent/short_term', 'housing/rent/apartment', inplace=True)\n",
    "print(df_1['category'].value_counts())\n"
   ],
   "metadata": {
    "collapsed": false,
    "ExecuteTime": {
     "end_time": "2024-05-13T18:56:48.881638Z",
     "start_time": "2024-05-13T18:56:48.876939Z"
    }
   },
   "id": "22a3b1df1b50519e",
   "execution_count": 623
  },
  {
   "cell_type": "code",
   "outputs": [
    {
     "data": {
      "text/plain": "<Figure size 1000x600 with 1 Axes>",
      "image/png": "[encoded data removed]"
     },
     "metadata": {},
     "output_type": "display_data"
    }
   ],
   "source": [
    "# Exploring feature 'bedrooms'\n",
    "# rint(df_1.bedrooms.value_counts())\n",
    "count_of_bedrooms = df_1.bedrooms.value_counts()\n",
    "# Define a custom color palette using colorcet and seaborn\n",
    "palette = sns.color_palette(cc.glasbey, n_colors=len(count_of_bedrooms))\n",
    "\n",
    "# Create a bar plot using Seaborn with 'bedrooms' as hue and custom color palette\n",
    "plt.figure(figsize=(10, 6))\n",
    "ax = sns.barplot(x=count_of_bedrooms.index, y=count_of_bedrooms.values, hue=count_of_bedrooms.index, palette=palette, errorbar=None, dodge=False)\n",
    "plt.title('Distribution of Bedrooms')\n",
    "plt.xlabel('Number of Bedrooms')\n",
    "plt.ylabel('Count')\n",
    "\n",
    "# Add annotations on top of each bar\n",
    "for p in ax.patches:\n",
    "    ax.annotate(f'{int(p.get_height())}', (p.get_x() + p.get_width() / 2., p.get_height()),\n",
    "                ha='center', va='bottom', xytext=(0, 5), textcoords='offset points')\n",
    "\n",
    "plt.legend().remove()  # Remove legend so we dont get the warning error\n",
    "plt.show()\n",
    "\n"
   ],
   "metadata": {
    "collapsed": false,
    "ExecuteTime": {
     "end_time": "2024-05-13T19:06:11.202901Z",
     "start_time": "2024-05-13T19:06:11.103839Z"
    }
   },
   "id": "1a0fe14a9adb06cb",
   "execution_count": 630
  },
  {
   "cell_type": "markdown",
   "source": [
    "#### From the bar plot above we can see that the mose popular apartment for rent are 1 bedroom, 2 bedroom or 3 bedroom."
   ],
   "metadata": {
    "collapsed": false
   },
   "id": "436821226da6414d"
  },
  {
   "cell_type": "code",
   "outputs": [],
   "source": [
    "# Because there are 9 categorises of bedrooms it's logical to convert them into category for memory efficiency in modelling part\n",
    "# Convert 'bedrooms' column to categorical data type\n",
    "df_1['bedrooms'] = df_1['bedrooms'].astype('category')"
   ],
   "metadata": {
    "collapsed": false,
    "ExecuteTime": {
     "end_time": "2024-05-13T19:06:16.400416Z",
     "start_time": "2024-05-13T19:06:16.397636Z"
    }
   },
   "id": "cba7476379ee6288",
   "execution_count": 631
  },
  {
   "cell_type": "code",
   "outputs": [
    {
     "data": {
      "text/plain": "<Figure size 1000x600 with 1 Axes>",
      "image/png": "[encoded data removed]"
     },
     "metadata": {},
     "output_type": "display_data"
    }
   ],
   "source": [
    "# Exploring feature 'bathrooms' \n",
    "# print(df_1['bathrooms'].value_counts())\n",
    "count_of_bathrooms = df_1['bathrooms'].value_counts()\n",
    "\n",
    "# Define a custom color palette using colorcet and seaborn\n",
    "palette = sns.color_palette(cc.glasbey, n_colors=len(count_of_bathrooms))\n",
    "\n",
    "# Create a bar plot using Seaborn with 'bedrooms' as hue and custom color palette\n",
    "plt.figure(figsize=(10, 6))\n",
    "ax = sns.barplot(x=count_of_bathrooms.index, y=count_of_bathrooms.values, hue=count_of_bathrooms.index, palette=palette, errorbar=None, dodge=False)\n",
    "plt.title('Distribution of Bathrooms')\n",
    "plt.xlabel('Number of Bathrooms')\n",
    "plt.ylabel('Count')\n",
    "\n",
    "# Add annotations on top of each bar\n",
    "for p in ax.patches:\n",
    "    ax.annotate(f'{int(p.get_height())}', (p.get_x() + p.get_width() / 2., p.get_height()),\n",
    "                ha='center', va='bottom', xytext=(0, 5), textcoords='offset points')\n",
    "\n",
    "plt.legend().remove()  # Remove legend so we dont get the warning error\n",
    "plt.show()"
   ],
   "metadata": {
    "collapsed": false,
    "ExecuteTime": {
     "end_time": "2024-05-13T19:07:25.789592Z",
     "start_time": "2024-05-13T19:07:25.667840Z"
    }
   },
   "id": "d253522f70856c53",
   "execution_count": 633
  },
  {
   "cell_type": "code",
   "outputs": [],
   "source": [
    "# Similarly to bedrooms we can convert bathrooms to category type for the same reasons\n",
    "df_1['bathrooms'] = df_1['bathrooms'].astype('category')"
   ],
   "metadata": {
    "collapsed": false,
    "ExecuteTime": {
     "end_time": "2024-05-13T19:07:31.310830Z",
     "start_time": "2024-05-13T19:07:31.308297Z"
    }
   },
   "id": "9b0d7e46a93786e3",
   "execution_count": 634
  },
  {
   "cell_type": "code",
   "outputs": [],
   "source": [
    "# Convert Unix timestamps to datetime objects\n",
    "df_1['time'] = pd.to_datetime(df_1['time'], unit='s')\n",
    "\n",
    "# After careful analysis its decide to drop 'price_type' colum, because payment method is monthly across all the records \n",
    "# So we can make a general assumption that data consists of monthly payments only\n",
    "df_1 = df_1.drop(columns=['price_type'])\n",
    "df_2 = df_1.copy()\n"
   ],
   "metadata": {
    "collapsed": false,
    "ExecuteTime": {
     "end_time": "2024-05-13T16:39:06.344908Z",
     "start_time": "2024-05-13T16:39:06.338787Z"
    }
   },
   "id": "1c5712d930d4b184",
   "execution_count": 567
  },
  {
   "cell_type": "code",
   "outputs": [
    {
     "data": {
      "text/plain": "Index(['category', 'bathrooms', 'bedrooms', 'has_photo', 'pets_allowed',\n       'price', 'price_type', 'square_feet', 'cityname', 'state', 'latitude',\n       'longitude', 'source', 'time', 'amenity_class'],\n      dtype='object')"
     },
     "execution_count": 651,
     "metadata": {},
     "output_type": "execute_result"
    }
   ],
   "source": [
    "df_1.columns"
   ],
   "metadata": {
    "collapsed": false,
    "ExecuteTime": {
     "end_time": "2024-05-13T20:31:09.328450Z",
     "start_time": "2024-05-13T20:31:09.325372Z"
    }
   },
   "id": "18c7c75291ccc6c5",
   "execution_count": 651
  },
  {
   "cell_type": "code",
   "outputs": [
    {
     "ename": "NameError",
     "evalue": "name 'gpd' is not defined",
     "output_type": "error",
     "traceback": [
      "\u001B[0;31m---------------------------------------------------------------------------\u001B[0m",
      "\u001B[0;31mNameError\u001B[0m                                 Traceback (most recent call last)",
      "Cell \u001B[0;32mIn[644], line 2\u001B[0m\n\u001B[1;32m      1\u001B[0m \u001B[38;5;66;03m# Load the shapefile of US states\u001B[39;00m\n\u001B[0;32m----> 2\u001B[0m us_states \u001B[38;5;241m=\u001B[39m gpd\u001B[38;5;241m.\u001B[39mread_file(gpd\u001B[38;5;241m.\u001B[39mdatasets\u001B[38;5;241m.\u001B[39mget_path(\u001B[38;5;124m'\u001B[39m\u001B[38;5;124mnaturalearth_lowres\u001B[39m\u001B[38;5;124m'\u001B[39m))\n\u001B[1;32m      4\u001B[0m \u001B[38;5;66;03m# Create a scatter plot of latitude and longitude coordinates\u001B[39;00m\n\u001B[1;32m      5\u001B[0m plt\u001B[38;5;241m.\u001B[39mfigure(figsize\u001B[38;5;241m=\u001B[39m(\u001B[38;5;241m10\u001B[39m, \u001B[38;5;241m8\u001B[39m))\n",
      "\u001B[0;31mNameError\u001B[0m: name 'gpd' is not defined"
     ]
    }
   ],
   "source": [
    "# Load the shapefile of US states\n",
    "us_states = gpd.read_file(gpd.datasets.get_path('naturalearth_lowres'))\n",
    "\n",
    "# Create a scatter plot of latitude and longitude coordinates\n",
    "plt.figure(figsize=(10, 8))\n",
    "us_states.plot(ax=plt.gca(), color='lightgrey', edgecolor='black')\n",
    "plt.scatter(df_1['lon'], df_1['lat'], c=df_1['price'], cmap='viridis', alpha=0.5, s=10)\n",
    "\n",
    "# Add colorbar\n",
    "plt.colorbar(label='Price')\n",
    "\n",
    "# Set labels and title\n",
    "plt.xlabel('Longitude')\n",
    "plt.ylabel('Latitude')\n",
    "plt.title('US Map with Coordinates Colored by Price')\n",
    "\n",
    "# Show plot\n",
    "plt.show()"
   ],
   "metadata": {
    "collapsed": false,
    "ExecuteTime": {
     "end_time": "2024-05-13T19:14:23.904606Z",
     "start_time": "2024-05-13T19:14:23.896221Z"
    }
   },
   "id": "229d996113d8aec2",
   "execution_count": 644
  },
  {
   "cell_type": "markdown",
   "source": [
    "## Model building"
   ],
   "metadata": {
    "collapsed": false
   },
   "id": "a44bca4ef44e5d52"
  },
  {
   "cell_type": "code",
   "outputs": [],
   "source": [],
   "metadata": {
    "collapsed": false
   },
   "id": "5326ff004ff8f1b7"
  },
  {
   "cell_type": "code",
   "outputs": [],
   "source": [],
   "metadata": {
    "collapsed": false
   },
   "id": "9f41a17faef9e605"
  },
  {
   "cell_type": "code",
   "outputs": [],
   "source": [],
   "metadata": {
    "collapsed": false
   },
   "id": "4c6db03609c9b441"
  },
  {
   "cell_type": "code",
   "outputs": [],
   "source": [],
   "metadata": {
    "collapsed": false
   },
   "id": "8ef091c544d229f0"
  }
 ],
 "metadata": {
  "kernelspec": {
   "display_name": "Python 3",
   "language": "python",
   "name": "python3"
  },
  "language_info": {
   "codemirror_mode": {
    "name": "ipython",
    "version": 2
   },
   "file_extension": ".py",
   "mimetype": "text/x-python",
   "name": "python",
   "nbconvert_exporter": "python",
   "pygments_lexer": "ipython2",
   "version": "2.7.6"
  }
 },
 "nbformat": 4,
 "nbformat_minor": 5
}
